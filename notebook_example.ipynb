{
  "cells": [
    {
      "cell_type": "raw",
      "metadata": {
        "vscode": {
          "languageId": "raw"
        }
      },
      "source": [
        "# EHR Embeddings with Google Gemini API\n",
        "\n",
        "This notebook demonstrates how to use Google's Gemini embedding API to encode Electronic Health Record (EHR) data and build machine learning models for predictions.\n",
        "\n",
        "## Setup and Installation\n",
        "\n",
        "First, make sure you have installed the required packages:\n",
        "```bash\n",
        "pip install -r requirements.txt\n",
        "```\n",
        "\n",
        "You'll also need a Google API key. Get one from: https://makersuite.google.com/app/apikey\n"
      ]
    },
    {
      "cell_type": "code",
      "execution_count": null,
      "metadata": {},
      "outputs": [],
      "source": [
        "# Import required libraries\n",
        "import os\n",
        "import pandas as pd\n",
        "import numpy as np\n",
        "import matplotlib.pyplot as plt\n",
        "import seaborn as sns\n",
        "from tqdm.auto import tqdm\n",
        "\n",
        "# Import our custom modules\n",
        "from src.embeddings import GeminiEmbedder, preprocess_ehr_text, create_embedding_features\n",
        "from src.ml_pipeline import EHRMLPipeline, create_sample_ehr_data\n",
        "from config import Config\n",
        "\n",
        "# Set up plotting\n",
        "plt.style.use('default')\n",
        "sns.set_palette(\"husl\")\n",
        "%matplotlib inline\n"
      ]
    }
  ],
  "metadata": {
    "language_info": {
      "name": "python"
    }
  },
  "nbformat": 4,
  "nbformat_minor": 2
}
